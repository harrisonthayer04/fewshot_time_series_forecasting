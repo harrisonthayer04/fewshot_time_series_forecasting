{
 "cells": [
  {
   "cell_type": "code",
   "execution_count": 1,
   "id": "5f16a996-7407-4e5a-bc7a-3e611f4f37be",
   "metadata": {},
   "outputs": [
    {
     "name": "stdout",
     "output_type": "stream",
     "text": [
      "Wed Dec 11 06:16:37 2024       \n",
      "+-----------------------------------------------------------------------------------------+\n",
      "| NVIDIA-SMI 550.127.05             Driver Version: 550.127.05     CUDA Version: 12.4     |\n",
      "|-----------------------------------------+------------------------+----------------------+\n",
      "| GPU  Name                 Persistence-M | Bus-Id          Disp.A | Volatile Uncorr. ECC |\n",
      "| Fan  Temp   Perf          Pwr:Usage/Cap |           Memory-Usage | GPU-Util  Compute M. |\n",
      "|                                         |                        |               MIG M. |\n",
      "|=========================================+========================+======================|\n",
      "|   0  NVIDIA A100-SXM4-80GB          Off |   00000000:40:00.0 Off |                    0 |\n",
      "| N/A   59C    P0            437W /  400W |   63859MiB /  81920MiB |     85%      Default |\n",
      "|                                         |                        |             Disabled |\n",
      "+-----------------------------------------+------------------------+----------------------+\n",
      "|   1  NVIDIA A100-SXM4-80GB          Off |   00000000:46:00.0 Off |                    0 |\n",
      "| N/A   52C    P0            339W /  400W |   15029MiB /  81920MiB |     86%      Default |\n",
      "|                                         |                        |             Disabled |\n",
      "+-----------------------------------------+------------------------+----------------------+\n",
      "                                                                                         \n",
      "+-----------------------------------------------------------------------------------------+\n",
      "| Processes:                                                                              |\n",
      "|  GPU   GI   CI        PID   Type   Process name                              GPU Memory |\n",
      "|        ID   ID                                                               Usage      |\n",
      "|=========================================================================================|\n",
      "+-----------------------------------------------------------------------------------------+\n"
     ]
    }
   ],
   "source": [
    "!nvidia-smi"
   ]
  },
  {
   "cell_type": "code",
   "execution_count": 2,
   "id": "6f4973e3-6778-40c8-88e2-7198c6bf4ea8",
   "metadata": {},
   "outputs": [],
   "source": [
    "import pandas as pd\n",
    "import numpy as np\n",
    "import torch\n",
    "from torch.utils.data import Dataset, DataLoader\n",
    "from sklearn.preprocessing import MinMaxScaler\n",
    "import matplotlib.pyplot as plt\n"
   ]
  },
  {
   "cell_type": "code",
   "execution_count": 3,
   "id": "53e620fd-8dd5-494f-8761-92ed32eadc40",
   "metadata": {},
   "outputs": [
    {
     "name": "stdout",
     "output_type": "stream",
     "text": [
      "Using device: cuda\n"
     ]
    }
   ],
   "source": [
    "# Verify the GPU is working, and set the device\n",
    "device = torch.device(\"cuda\" if torch.cuda.is_available() else \"cpu\")\n",
    "print(\"Using device:\", device)"
   ]
  },
  {
   "cell_type": "code",
   "execution_count": 4,
   "id": "dc8709cc-a37c-4501-933c-a9a69133c045",
   "metadata": {},
   "outputs": [
    {
     "name": "stdout",
     "output_type": "stream",
     "text": [
      "Model2.ipynb  modelep1.pth  modelep3.pth  testing.ipynb\n",
      "modelep0.pth  modelep2.pth  modelep4.pth  training_data_january_2023.csv\n"
     ]
    }
   ],
   "source": [
    "!ls"
   ]
  },
  {
   "cell_type": "code",
   "execution_count": 6,
   "id": "6528f5b6-1455-418f-98c7-3f9ff0f22a95",
   "metadata": {},
   "outputs": [],
   "source": [
    "# Either Load the data from the pickle\n",
    "# df = pd.read_pickle('training_data.pkl')\n",
    "# Or load the data from the csv\n",
    "df = pd.read_csv('training_data_january_2023.csv', names=['timestamp', 'Station', 'Total_Flow'])\n",
    "\n",
    "# Convert 'timestamp' to datetime and set as index\n",
    "df['timestamp'] = pd.to_datetime(df['timestamp'])\n",
    "df.set_index('timestamp', inplace=True)\n",
    "df.dropna(inplace=True)\n",
    "\n",
    "# Initialize and apply the scaler\n",
    "scaler = MinMaxScaler(feature_range=(0, 1))\n",
    "df['traffic_flow_scaled'] = scaler.fit_transform(df[['Total_Flow']])"
   ]
  },
  {
   "cell_type": "code",
   "execution_count": 7,
   "id": "79b9ac41-7e1c-4ab6-88e6-c2728605d86e",
   "metadata": {},
   "outputs": [],
   "source": [
    "# Define input and forecast lengths\n",
    "input_length = 96   # 48 hours * 4 intervals/hour = 192 steps\n",
    "forecast_length = 48  # 24 hours * 4 intervals/hour = 96 steps\n",
    "\n",
    "# Create sequences for multi-step forecasting\n",
    "def create_sequences(data, input_length, forecast_length):\n",
    "    xs, ys = [], []\n",
    "    for i in range(len(data) - input_length - forecast_length + 1):\n",
    "        x = data[i : i + input_length]\n",
    "        y = data[i + input_length : i + input_length + forecast_length]\n",
    "        xs.append(x)\n",
    "        ys.append(y)\n",
    "    return np.array(xs), np.array(ys)\n",
    "\n",
    "X, y = create_sequences(df['traffic_flow_scaled'].values, input_length, forecast_length)\n",
    "\n",
    "# Split data into training and testing sets\n",
    "train_size = int(X.shape[0] * 0.8)\n",
    "X_train, y_train = X[:train_size], y[:train_size]\n",
    "X_test, y_test = X[train_size:], y[train_size:]"
   ]
  },
  {
   "cell_type": "code",
   "execution_count": 8,
   "id": "d7d9ae7b-64ba-4b30-9953-e19aca03588a",
   "metadata": {},
   "outputs": [],
   "source": [
    "# Custom Dataset class\n",
    "class TimeSeriesDataset(Dataset):\n",
    "    def __init__(self, X, y):\n",
    "        self.X = X\n",
    "        self.y = y\n",
    "    def __len__(self):\n",
    "        return len(self.X)\n",
    "    def __getitem__(self, idx):\n",
    "        return torch.tensor(self.X[idx], dtype=torch.float), torch.tensor(self.y[idx], dtype=torch.float)\n",
    "\n",
    "train_dataset = TimeSeriesDataset(X_train, y_train)\n",
    "test_dataset = TimeSeriesDataset(X_test, y_test)\n",
    "\n",
    "train_loader = DataLoader(train_dataset, batch_size=2048, shuffle=True)\n",
    "test_loader = DataLoader(test_dataset, batch_size=2048, shuffle=False)"
   ]
  },
  {
   "cell_type": "code",
   "execution_count": 9,
   "id": "2f131fc5-6ab7-4085-9f1f-82e60e03f8cc",
   "metadata": {},
   "outputs": [],
   "source": [
    "# Define the LSTM model\n",
    "class LSTMModel(torch.nn.Module):\n",
    "    def __init__(self, input_size=1, hidden_size=256, output_size=48, num_layers=4):\n",
    "        super(LSTMModel, self).__init__()\n",
    "        self.hidden_size = hidden_size\n",
    "        self.num_layers = num_layers\n",
    "        self.lstm = torch.nn.LSTM(input_size, hidden_size, num_layers=self.num_layers, dropout=0.2, bidirectional=True)\n",
    "        self.fc = torch.nn.Linear(hidden_size*2, output_size)\n",
    "\n",
    "    def forward(self, x):\n",
    "        h_0 = torch.zeros(2 * self.num_layers, x.size(1), self.hidden_size, device=x.device)\n",
    "        c_0 = torch.zeros(2 * self.num_layers, x.size(1), self.hidden_size, device=x.device)\n",
    "        out, _ = self.lstm(x, (h_0, c_0))\n",
    "        last_out = out[-1, :, :]\n",
    "        predictions = self.fc(last_out)\n",
    "        return predictions\n",
    "\n",
    "model = LSTMModel().to(device)\n",
    "\n",
    "criterion = torch.nn.MSELoss()\n",
    "optimizer = torch.optim.Adam(model.parameters(), lr=0.001)"
   ]
  },
  {
   "cell_type": "code",
   "execution_count": 11,
   "id": "2ece6024-f24f-4f21-ab07-5fd0d94101f4",
   "metadata": {},
   "outputs": [
    {
     "name": "stdout",
     "output_type": "stream",
     "text": [
      "Model2.ipynb  modelep3.pth  testing_for_model_2.ipynb\n",
      "modelep0.pth  modelep4.pth  training_data_january_2023-Copy1.csv\n",
      "modelep1.pth  modelep5.pth  training_data_january_2023.csv\n",
      "modelep2.pth  modelep6.pth\n"
     ]
    }
   ],
   "source": [
    "!ls"
   ]
  },
  {
   "cell_type": "code",
   "execution_count": null,
   "id": "aee154e8-7dfe-4eb9-8433-8c58a34f672d",
   "metadata": {},
   "outputs": [
    {
     "name": "stdout",
     "output_type": "stream",
     "text": [
      "Evaluating model\n"
     ]
    }
   ],
   "source": [
    "from sklearn.metrics import mean_squared_error\n",
    "\n",
    "model = LSTMModel(input_size=1, hidden_size=256, output_size=48, num_layers=4).to(device)\n",
    "\n",
    "# Helper function to load model/make predictions/calc mse\n",
    "def evaluate_model(model_path, test_loader):\n",
    "    model.load_state_dict(torch.load(model_path, map_location=device))\n",
    "    model.eval()\n",
    "\n",
    "    predictions = []\n",
    "    actuals = []\n",
    "\n",
    "    with torch.no_grad():\n",
    "        for sequences, targets in test_loader:\n",
    "            sequences = sequences.to(device)\n",
    "            targets = targets.to(device)\n",
    "            sequences = sequences.unsqueeze(2).permute(1, 0, 2)\n",
    "            # Make predictions\n",
    "            outs = model(sequences)\n",
    "            predictions.append(outs.cpu().numpy())\n",
    "            actuals.append(targets.cpu().numpy())\n",
    "\n",
    "    predictions = np.concatenate(predictions, axis=0)\n",
    "    actuals = np.concatenate(actuals, axis=0)\n",
    "\n",
    "    predictions = scaler.inverse_transform(predictions)\n",
    "    actuals = scaler.inverse_transform(actuals)\n",
    "\n",
    "    mse = mean_squared_error(actuals.flatten(), predictions.flatten())\n",
    "    return predictions, actuals, mse\n",
    "\n",
    "print(\"Evaluating model\")\n",
    "predictionsp4, actuals, mse_p4 = evaluate_model('modelep4.pth', test_loader)\n",
    "print(\"Evaluating model\")\n",
    "predictionsp7, _, mse_p7 = evaluate_model('modelep7.pth', test_loader)\n",
    "print(\"Evaluating model\")\n",
    "predictionsp8, _, mse_p8 = evaluate_model('modelep8.pth', test_loader)\n",
    "#predictionsp9, _, mse_p9 = evaluate_model('modelep9.pth', test_loader)\n",
    "#predictionsp10, _, mse_p10 = evaluate_model('modelep10.pth', test_loader)\n",
    "# Print MSE for each model\n",
    "print(f'MSE for model epoch 4: {mse_p4:.5f}')\n",
    "print(f'MSE for model epoch 7: {mse_p7:.5f}')\n",
    "print(f'MSE for model epoch 8: {mse_p8:.5f}')\n",
    "#print(f'MSE for model epoch 9: {mse_p9:.5f}')\n",
    "#print(f'MSE for model epoch 10: {mse_p10:.5f}')\n",
    "# Extract the station ID for the specific example\n",
    "\n",
    "station_id = df['Station'].iloc[train_size]\n",
    "# Visualize one example forecast with station information\n",
    "plt.figure(figsize=(12, 6))\n",
    "plt.plot(actuals[0], label='Actual Traffic Flow')\n",
    "plt.plot(predictionsp4[0], label='Predicted Traffic Flow p4')\n",
    "plt.plot(predictionsp7[0], label='Predicted Traffic Flow p7')\n",
    "plt.plot(predictionsp8[0], label='Predicted Traffic Flow p8')\n",
    "#plt.plot(predictionsp9[0], label='Predicted Traffic Flow p9')\n",
    "#plt.plot(predictionsp10[0], label='Predicted Traffic Flow p10')\n",
    "plt.xlabel('Forecast Steps (15-min intervals)')\n",
    "plt.ylabel('Traffic Flow')\n",
    "plt.title(f'24-hour Traffic Flow Forecast for Station: {station_id}')\n",
    "\n",
    "plt.legend()\n",
    "plt.show()"
   ]
  }
 ],
 "metadata": {
  "kernelspec": {
   "display_name": "Python 3 (ipykernel)",
   "language": "python",
   "name": "python3"
  },
  "language_info": {
   "codemirror_mode": {
    "name": "ipython",
    "version": 3
   },
   "file_extension": ".py",
   "mimetype": "text/x-python",
   "name": "python",
   "nbconvert_exporter": "python",
   "pygments_lexer": "ipython3",
   "version": "3.11.9"
  }
 },
 "nbformat": 4,
 "nbformat_minor": 5
}
