{
 "cells": [
  {
   "cell_type": "code",
   "execution_count": 1,
   "id": "20124ca8-332c-41ec-bfb5-ccf52cd1a662",
   "metadata": {},
   "outputs": [
    {
     "name": "stdout",
     "output_type": "stream",
     "text": [
      "Wed Dec 11 05:03:16 2024       \n",
      "+-----------------------------------------------------------------------------------------+\n",
      "| NVIDIA-SMI 550.127.05             Driver Version: 550.127.05     CUDA Version: 12.4     |\n",
      "|-----------------------------------------+------------------------+----------------------+\n",
      "| GPU  Name                 Persistence-M | Bus-Id          Disp.A | Volatile Uncorr. ECC |\n",
      "| Fan  Temp   Perf          Pwr:Usage/Cap |           Memory-Usage | GPU-Util  Compute M. |\n",
      "|                                         |                        |               MIG M. |\n",
      "|=========================================+========================+======================|\n",
      "|   0  NVIDIA A100-SXM4-80GB          Off |   00000000:40:00.0 Off |                    0 |\n",
      "| N/A   33C    P0             67W /  400W |       1MiB /  81920MiB |      0%      Default |\n",
      "|                                         |                        |             Disabled |\n",
      "+-----------------------------------------+------------------------+----------------------+\n",
      "|   1  NVIDIA A100-SXM4-80GB          Off |   00000000:46:00.0 Off |                    0 |\n",
      "| N/A   26C    P0             66W /  400W |       1MiB /  81920MiB |      0%      Default |\n",
      "|                                         |                        |             Disabled |\n",
      "+-----------------------------------------+------------------------+----------------------+\n",
      "                                                                                         \n",
      "+-----------------------------------------------------------------------------------------+\n",
      "| Processes:                                                                              |\n",
      "|  GPU   GI   CI        PID   Type   Process name                              GPU Memory |\n",
      "|        ID   ID                                                               Usage      |\n",
      "|=========================================================================================|\n",
      "|  No running processes found                                                             |\n",
      "+-----------------------------------------------------------------------------------------+\n"
     ]
    }
   ],
   "source": [
    "!nvidia-smi"
   ]
  },
  {
   "cell_type": "code",
   "execution_count": 2,
   "id": "0bcb7f4e-b91c-417b-a2ad-d69fcd763ad4",
   "metadata": {},
   "outputs": [],
   "source": [
    "import pandas as pd\n",
    "import numpy as np\n",
    "import torch\n",
    "from torch.utils.data import Dataset, DataLoader\n",
    "from sklearn.preprocessing import MinMaxScaler\n",
    "import matplotlib.pyplot as plt\n"
   ]
  },
  {
   "cell_type": "code",
   "execution_count": 3,
   "id": "2daec163-e8ad-427a-8245-29ed1d216a0d",
   "metadata": {},
   "outputs": [
    {
     "name": "stdout",
     "output_type": "stream",
     "text": [
      "Using device: cuda\n"
     ]
    }
   ],
   "source": [
    "# Verify the GPU is working, and set the device\n",
    "device = torch.device(\"cuda\" if torch.cuda.is_available() else \"cpu\")\n",
    "print(\"Using device:\", device)"
   ]
  },
  {
   "cell_type": "code",
   "execution_count": 5,
   "id": "92803db2-b64a-48b1-b5eb-45f1541a5ead",
   "metadata": {},
   "outputs": [
    {
     "name": "stdout",
     "output_type": "stream",
     "text": [
      "README.md\ttraining_data.csv\t\t untitled.txt\n",
      "Untitled.ipynb\ttraining_data_janurary_2023.csv\n"
     ]
    }
   ],
   "source": [
    "# Verify the necessary files are present\n",
    "!ls"
   ]
  },
  {
   "cell_type": "code",
   "execution_count": 7,
   "id": "ac244ab4-9394-4fd8-bc65-a3e963c70f0d",
   "metadata": {},
   "outputs": [],
   "source": [
    "# Either Load the data from the pickle\n",
    "# df = pd.read_pickle('training_data.pkl')\n",
    "# Or load the data from the csv\n",
    "df = pd.read_csv('training_data_janurary_2023.csv', names=['timestamp', 'Station', 'Total_Flow'])\n",
    "\n",
    "# Convert 'timestamp' to datetime and set as index\n",
    "df['timestamp'] = pd.to_datetime(df['timestamp'])\n",
    "df.set_index('timestamp', inplace=True)\n",
    "df.dropna(inplace=True)\n",
    "\n",
    "# Initialize and apply the scaler\n",
    "scaler = MinMaxScaler(feature_range=(0, 1))\n",
    "df['traffic_flow_scaled'] = scaler.fit_transform(df[['Total_Flow']])"
   ]
  },
  {
   "cell_type": "code",
   "execution_count": 9,
   "id": "6b95a962-0547-4495-bbee-3929e056cd9a",
   "metadata": {},
   "outputs": [],
   "source": [
    "# Define input and forecast lengths\n",
    "input_length = 192   # 48 hours * 4 intervals/hour = 192 steps\n",
    "forecast_length = 96  # 24 hours * 4 intervals/hour = 96 steps\n",
    "\n",
    "# Create sequences for multi-step forecasting\n",
    "def create_sequences(data, input_length, forecast_length):\n",
    "    xs, ys = [], []\n",
    "    for i in range(len(data) - input_length - forecast_length + 1):\n",
    "        x = data[i : i + input_length]\n",
    "        y = data[i + input_length : i + input_length + forecast_length]\n",
    "        xs.append(x)\n",
    "        ys.append(y)\n",
    "    return np.array(xs), np.array(ys)\n",
    "\n",
    "X, y = create_sequences(df['traffic_flow_scaled'].values, input_length, forecast_length)\n",
    "\n",
    "# Split data into training and testing sets\n",
    "train_size = int(X.shape[0] * 0.8)\n",
    "X_train, y_train = X[:train_size], y[:train_size]\n",
    "X_test, y_test = X[train_size:], y[train_size:]"
   ]
  },
  {
   "cell_type": "code",
   "execution_count": 10,
   "id": "d11bc6cd-b17e-48af-922c-90fd7c9dc9de",
   "metadata": {},
   "outputs": [],
   "source": [
    "# Custom Dataset class\n",
    "class TimeSeriesDataset(Dataset):\n",
    "    def __init__(self, X, y):\n",
    "        self.X = X\n",
    "        self.y = y\n",
    "    def __len__(self):\n",
    "        return len(self.X)\n",
    "    def __getitem__(self, idx):\n",
    "        return torch.tensor(self.X[idx], dtype=torch.float), torch.tensor(self.y[idx], dtype=torch.float)\n",
    "\n",
    "train_dataset = TimeSeriesDataset(X_train, y_train)\n",
    "test_dataset = TimeSeriesDataset(X_test, y_test)\n",
    "\n",
    "train_loader = DataLoader(train_dataset, batch_size=2048, shuffle=True)\n",
    "test_loader = DataLoader(test_dataset, batch_size=2048, shuffle=False)"
   ]
  },
  {
   "cell_type": "code",
   "execution_count": 11,
   "id": "79f53697-fbce-4d84-bb75-fe1cc1a57bc4",
   "metadata": {},
   "outputs": [],
   "source": [
    "# Define the LSTM model\n",
    "class LSTMModel(torch.nn.Module):\n",
    "    def __init__(self, input_size=1, hidden_size=256, output_size=96, num_layers=4):\n",
    "        super(LSTMModel, self).__init__()\n",
    "        self.hidden_size = hidden_size\n",
    "        self.num_layers = num_layers\n",
    "        self.lstm = torch.nn.LSTM(input_size, hidden_size, num_layers=self.num_layers, dropout=0.2, bidirectional=True)\n",
    "        self.fc = torch.nn.Linear(hidden_size*2, output_size)\n",
    "\n",
    "    def forward(self, x):\n",
    "        h_0 = torch.zeros(2 * self.num_layers, x.size(1), self.hidden_size, device=x.device)\n",
    "        c_0 = torch.zeros(2 * self.num_layers, x.size(1), self.hidden_size, device=x.device)\n",
    "        out, _ = self.lstm(x, (h_0, c_0))\n",
    "        last_out = out[-1, :, :]\n",
    "        predictions = self.fc(last_out)\n",
    "        return predictions\n",
    "\n",
    "model = LSTMModel().to(device)\n",
    "\n",
    "criterion = torch.nn.MSELoss()\n",
    "optimizer = torch.optim.Adam(model.parameters(), lr=0.001)"
   ]
  },
  {
   "cell_type": "code",
   "execution_count": null,
   "id": "accef43d-33dd-4c49-8976-5b54f4b3996f",
   "metadata": {},
   "outputs": [],
   "source": [
    "# Train the model\n",
    "loss_history = []n\n",
    "\n",
    "num_epochs = 500  # Increase this for better training\n",
    "for epoch in range(num_epochs):\n",
    "    model.train()\n",
    "    total_loss = 0\n",
    "    for sequences, targets in train_loader:\n",
    "        sequences = sequences.to(device)\n",
    "        targets = targets.to(device)\n",
    "\n",
    "        # Reshape input to (seq_length, batch_size, input_size)\n",
    "        sequences = sequences.unsqueeze(2).permute(1, 0, 2)  # (192, batch_size, 1)\n",
    "\n",
    "        optimizer.zero_grad()\n",
    "        outputs = model(sequences)  # (batch_size, 96)\n",
    "        loss = criterion(outputs, targets)\n",
    "        loss.backward()\n",
    "        optimizer.step()\n",
    "\n",
    "        total_loss += loss.item()\n",
    "    avg_loss = total_loss / len(train_loader)\n",
    "    loss_history.append(avg_loss)\n",
    "    print(f'Epoch: {epoch}, Loss: {avg_loss:.5f}')\n",
    "    # Save the model\n",
    "    model_save_path = 'model' + 'ep' + str(epoch) + '.pth'\n",
    "    torch.save(model.state_dict(), model_save_path)\n",
    "    print(f\"Model saved to {model_save_path}\")\n",
    "\n"
   ]
  },
  {
   "cell_type": "code",
   "execution_count": null,
   "id": "fb78c033-a437-458d-bf96-3028c0417d6d",
   "metadata": {},
   "outputs": [],
   "source": []
  }
 ],
 "metadata": {
  "kernelspec": {
   "display_name": "Python 3 (ipykernel)",
   "language": "python",
   "name": "python3"
  },
  "language_info": {
   "codemirror_mode": {
    "name": "ipython",
    "version": 3
   },
   "file_extension": ".py",
   "mimetype": "text/x-python",
   "name": "python",
   "nbconvert_exporter": "python",
   "pygments_lexer": "ipython3",
   "version": "3.11.9"
  }
 },
 "nbformat": 4,
 "nbformat_minor": 5
}
